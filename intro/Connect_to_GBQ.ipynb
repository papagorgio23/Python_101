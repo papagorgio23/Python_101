{
 "cells": [
  {
   "cell_type": "markdown",
   "metadata": {
    "colab_type": "text",
    "id": "view-in-github"
   },
   "source": [
    "<a href=\"https://colab.research.google.com/github/papagorgio23/Python101/blob/master/Connect_to_GBQ.ipynb\" target=\"_parent\"><img src=\"https://colab.research.google.com/assets/colab-badge.svg\" alt=\"Open In Colab\"/></a>"
   ]
  },
  {
   "cell_type": "markdown",
   "metadata": {
    "colab_type": "text",
    "id": "raSQtIn4grDa"
   },
   "source": [
    "# Connect to GBQ"
   ]
  },
  {
   "cell_type": "markdown",
   "metadata": {
    "colab_type": "text",
    "id": "YmAcVKnXg3JA"
   },
   "source": [
    "## Install Library"
   ]
  },
  {
   "cell_type": "code",
   "execution_count": null,
   "metadata": {
    "colab": {
     "base_uri": "https://localhost:8080/",
     "height": 360
    },
    "colab_type": "code",
    "id": "8UVMPEFCgiZn",
    "outputId": "bb6e092d-a993-42c0-ade2-dbfe7ff35ba4"
   },
   "outputs": [],
   "source": [
    "# Installing Library\n",
    "!pip install pydata_google_auth"
   ]
  },
  {
   "cell_type": "markdown",
   "metadata": {
    "colab_type": "text",
    "id": "BBlKswCCg6tK"
   },
   "source": [
    "## Get Credentials"
   ]
  },
  {
   "cell_type": "code",
   "execution_count": null,
   "metadata": {
    "colab": {
     "base_uri": "https://localhost:8080/",
     "height": 71
    },
    "colab_type": "code",
    "id": "ayRZaPmtgsk1",
    "outputId": "32793162-9b33-467f-dd5d-68bedcdfd7b8"
   },
   "outputs": [],
   "source": [
    "# Using GBQ shout Out to Hughes\n",
    "import pandas_gbq\n",
    "import pydata_google_auth\n",
    "\n",
    "SCOPES = [\n",
    "    'https://www.googleapis.com/auth/cloud-platform',\n",
    "    'https://www.googleapis.com/auth/drive',\n",
    "]\n",
    "\n",
    "credentials = pydata_google_auth.get_user_credentials(\n",
    "    SCOPES,\n",
    "    auth_local_webserver=False)"
   ]
  },
  {
   "cell_type": "markdown",
   "metadata": {
    "colab_type": "text",
    "id": "PbgBZafNhLSD"
   },
   "source": [
    "## Write SQL Script"
   ]
  },
  {
   "cell_type": "code",
   "execution_count": null,
   "metadata": {
    "colab": {},
    "colab_type": "code",
    "id": "YnWAhx7-g_n9"
   },
   "outputs": [],
   "source": [
    "sql = \"\"\"\n",
    "\n",
    "SELECT *\n",
    "FROM `ffn-dw-bigquery-prd.Credit_Views.Check_Sales_NPV_Model_Inputs`\n",
    "LIMIT 1000\n",
    "\n",
    "\"\"\""
   ]
  },
  {
   "cell_type": "markdown",
   "metadata": {
    "colab_type": "text",
    "id": "4PwrtrBahbjx"
   },
   "source": [
    "## Execute Query"
   ]
  },
  {
   "cell_type": "markdown",
   "metadata": {
    "colab_type": "text",
    "id": "ZyqsG1Kyhzfk"
   },
   "source": [
    "The first query it will make you authenticate one more time. After that you can run as many queries as you need and you won't have to authenticate during the session."
   ]
  },
  {
   "cell_type": "code",
   "execution_count": null,
   "metadata": {
    "colab": {
     "base_uri": "https://localhost:8080/",
     "height": 71
    },
    "colab_type": "code",
    "id": "faY6txClhayx",
    "outputId": "efffddf6-996c-4985-b46c-8ff849ff4f5e"
   },
   "outputs": [],
   "source": [
    "df = pandas_gbq.read_gbq(sql, project_id='ffn-dw-bigquery-prd', credentials=credentials, dialect='standard')"
   ]
  },
  {
   "cell_type": "code",
   "execution_count": null,
   "metadata": {
    "colab": {
     "base_uri": "https://localhost:8080/",
     "height": 309
    },
    "colab_type": "code",
    "id": "xuxfcdyQhnIv",
    "outputId": "97294b8a-48a0-4bba-8544-50e636aa06a4"
   },
   "outputs": [],
   "source": [
    "df.head()"
   ]
  },
  {
   "cell_type": "code",
   "execution_count": null,
   "metadata": {
    "colab": {},
    "colab_type": "code",
    "id": "rkDClebhhyCp"
   },
   "outputs": [],
   "source": []
  }
 ],
 "metadata": {
  "colab": {
   "collapsed_sections": [],
   "include_colab_link": true,
   "name": "Connect to GBQ.ipynb",
   "provenance": []
  },
  "kernelspec": {
   "display_name": "Python 3",
   "name": "python3"
  }
 },
 "nbformat": 4,
 "nbformat_minor": 0
}
